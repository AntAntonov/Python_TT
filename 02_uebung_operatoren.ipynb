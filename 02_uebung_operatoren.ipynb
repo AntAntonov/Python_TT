{
 "cells": [
  {
   "cell_type": "markdown",
   "metadata": {},
   "source": [
    "## Übung: Operatoren\n",
    "\n",
    "- Benutzung von Operatoren"
   ]
  },
  {
   "cell_type": "markdown",
   "metadata": {},
   "source": [
    "## Aufgabe 1\n",
    "\n",
    "Gegeben sind drei Zahlen. \n",
    "\n",
    "Berechne die Summer der Zahlen und speichere das Ergebnis in einer Variable namens `ergebnis`."
   ]
  },
  {
   "cell_type": "code",
   "execution_count": 9,
   "metadata": {},
   "outputs": [],
   "source": [
    "zahl_1 = 4\n",
    "zahl_2 = 13\n",
    "zahl_3 = 21\n",
    "\n",
    "# Lösung:\n",
    "\n",
    "print()\n",
    "print()\n",
    "print()\n",
    "print()\n",
    "print()\n",
    "\n",
    "ergebnis = zahl_1 + zahl_2 + zahl_3\n"
   ]
  },
  {
   "cell_type": "markdown",
   "metadata": {},
   "source": [
    "In den folgenden Aufgabe wird mit der Variable `ergebnis` gearbeitet.\n",
    "\n",
    "Die Ausgabe der Aufgaben sollen Wahrheitswerte sein (`True` oder `False`).\n",
    "\n",
    "Gib die Wahrheitswerte einfach unter der jeweiligen Lösungs-Code-Zelle aus."
   ]
  },
  {
   "cell_type": "markdown",
   "metadata": {},
   "source": [
    "## Aufgabe 2\n",
    "\n",
    "Überprüfe mit einem Operator, ob das Ergebnis gleich 12 ist."
   ]
  },
  {
   "cell_type": "code",
   "execution_count": 3,
   "metadata": {},
   "outputs": [
    {
     "data": {
      "text/plain": [
       "False"
      ]
     },
     "execution_count": 3,
     "metadata": {},
     "output_type": "execute_result"
    }
   ],
   "source": [
    "# Lösung:\n",
    "\n",
    "ergebnis == 12"
   ]
  },
  {
   "cell_type": "markdown",
   "metadata": {},
   "source": [
    "## Aufgabe 3\n",
    "\n",
    "Überprüfe, ob das Ergebnis gleich 37 oder 38 ist."
   ]
  },
  {
   "cell_type": "code",
   "execution_count": 6,
   "metadata": {},
   "outputs": [
    {
     "data": {
      "text/plain": [
       "True"
      ]
     },
     "execution_count": 6,
     "metadata": {},
     "output_type": "execute_result"
    }
   ],
   "source": [
    "# Lösung:\n",
    "\n",
    "ergebnis == 37 or ergebnis == 38"
   ]
  },
  {
   "cell_type": "markdown",
   "metadata": {},
   "source": [
    "## Aufgabe 4\n",
    "\n",
    "Überprüfe, ob das Ergebnis nicht 24 ist."
   ]
  },
  {
   "cell_type": "code",
   "execution_count": 7,
   "metadata": {},
   "outputs": [
    {
     "data": {
      "text/plain": [
       "True"
      ]
     },
     "execution_count": 7,
     "metadata": {},
     "output_type": "execute_result"
    }
   ],
   "source": [
    "# Lösung:\n",
    "\n",
    "ergebnis != 24"
   ]
  },
  {
   "cell_type": "markdown",
   "metadata": {},
   "source": [
    "## Aufgabe 5\n",
    "\n",
    "Überprüfe, ob das Ergebnis vom Typ `integer` ist."
   ]
  },
  {
   "cell_type": "code",
   "execution_count": 8,
   "metadata": {},
   "outputs": [
    {
     "data": {
      "text/plain": [
       "True"
      ]
     },
     "execution_count": 8,
     "metadata": {},
     "output_type": "execute_result"
    }
   ],
   "source": [
    "# Lösung:\n",
    "\n",
    "type(ergebnis) == int"
   ]
  },
  {
   "cell_type": "code",
   "execution_count": null,
   "metadata": {},
   "outputs": [],
   "source": [
    "print()\n",
    "print()\n",
    "print()\n",
    "extensions = 2\n"
   ]
  }
 ],
 "metadata": {
  "kernelspec": {
   "display_name": "Python 3",
   "language": "python",
   "name": "python3"
  },
  "language_info": {
   "codemirror_mode": {
    "name": "ipython",
    "version": 3
   },
   "file_extension": ".py",
   "mimetype": "text/x-python",
   "name": "python",
   "nbconvert_exporter": "python",
   "pygments_lexer": "ipython3",
   "version": "3.12.3"
  }
 },
 "nbformat": 4,
 "nbformat_minor": 2
}
