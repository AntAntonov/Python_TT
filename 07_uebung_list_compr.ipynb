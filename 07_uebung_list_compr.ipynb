{
 "cells": [
  {
   "cell_type": "markdown",
   "metadata": {},
   "source": [
    "## Übung: List Comprehension\n",
    "\n",
    "## Aufgabe 1\n",
    "\n",
    "Benutze list comprehension, um eine Liste mit den Zahlen zwischen 0 und 20 (inkludiert) zu erstellen.\n",
    "\n",
    "*Hinweis: Benutze die `range`-Funktion*"
   ]
  },
  {
   "cell_type": "code",
   "execution_count": 2,
   "metadata": {},
   "outputs": [
    {
     "name": "stdout",
     "output_type": "stream",
     "text": [
      "[0, 1, 2, 3, 4, 5, 6, 7, 8, 9, 10, 11, 12, 13, 14, 15, 16, 17, 18, 19, 20]\n"
     ]
    }
   ],
   "source": [
    "# Lösung:\n",
    "\n",
    "zahlen = [i for i in range(21)]\n",
    "\n",
    "print(zahlen)\n"
   ]
  },
  {
   "cell_type": "markdown",
   "metadata": {},
   "source": [
    "## Aufgabe 2\n",
    "\n",
    "Benutze list comprehension, um eine Liste mit den Zahlen zwischen 20 und 40 (inkludiert) zu erstellen, die durch zwei teilbar sind."
   ]
  },
  {
   "cell_type": "code",
   "execution_count": 5,
   "metadata": {},
   "outputs": [
    {
     "name": "stdout",
     "output_type": "stream",
     "text": [
      "[20, 22, 24, 26, 28, 30, 32, 34, 36, 38, 40]\n"
     ]
    }
   ],
   "source": [
    "# Lösung:\n",
    "\n",
    "teilbar_2_liste = [i for i in range(20 , 41) if i  % 2 == 0]\n",
    "\n",
    "print(teilbar_2_liste)"
   ]
  },
  {
   "cell_type": "markdown",
   "metadata": {},
   "source": [
    "## Aufgabe 3\n",
    "\n",
    "Gegeben ist eine Liste mit Strings und Zahlen.\n",
    "\n",
    "Benutze list comprehension, um eine neue Liste zu erstellen, die nur die Strings enthält."
   ]
  },
  {
   "cell_type": "code",
   "execution_count": 14,
   "metadata": {},
   "outputs": [
    {
     "name": "stdout",
     "output_type": "stream",
     "text": [
      "['computer', 'python', 'programmieren']\n"
     ]
    }
   ],
   "source": [
    "info = [\"computer\", 2, \"python\", 2.3, 1.11, 5.4, \"programmieren\"]\n",
    "\n",
    "# Lösung:\n",
    "\n",
    "str_liste = [i for i in info if isinstance(i, str)]\n",
    "\n",
    "print(str_liste)"
   ]
  },
  {
   "cell_type": "markdown",
   "metadata": {},
   "source": [
    "## Aufgabe 4\n",
    "\n",
    "Auf Grundlage der in Aufgabe 3 erzeugten Liste, erstelle nun eine Liste, die die selben Strings enthält, aber mit einem großen Anfangsbuchstaben."
   ]
  },
  {
   "cell_type": "code",
   "execution_count": 15,
   "metadata": {},
   "outputs": [
    {
     "name": "stdout",
     "output_type": "stream",
     "text": [
      "['Computer', 'Python', 'Programmieren']\n"
     ]
    }
   ],
   "source": [
    "# Lösung:\n",
    "\n",
    "str_liste_cap = [i.capitalize() for i in info if isinstance(i, str)]\n",
    "\n",
    "print(str_liste_cap)\n",
    "\n",
    "\"sdsasaaaa\". \n"
   ]
  }
 ],
 "metadata": {
  "kernelspec": {
   "display_name": "python_workshop",
   "language": "python",
   "name": "python3"
  },
  "language_info": {
   "codemirror_mode": {
    "name": "ipython",
    "version": 3
   },
   "file_extension": ".py",
   "mimetype": "text/x-python",
   "name": "python",
   "nbconvert_exporter": "python",
   "pygments_lexer": "ipython3",
   "version": "3.12.3"
  }
 },
 "nbformat": 4,
 "nbformat_minor": 2
}
