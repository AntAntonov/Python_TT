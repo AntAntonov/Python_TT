{
 "cells": [
  {
   "cell_type": "markdown",
   "metadata": {},
   "source": [
    "## Übungsaufgaben\n",
    "\n",
    "- Listen, Strings und Loops"
   ]
  },
  {
   "cell_type": "markdown",
   "metadata": {},
   "source": [
    "## Aufgabe 1\n",
    "\n",
    "Gegeben ist eine Liste von Telefonnummern und Namen.\n",
    "\n",
    "Erstelle mithilfe eines While-Loops eine neue Liste, die nur die Nummern enthält.\n",
    "\n",
    "*Hinweis: Nutze die `.isdigit()` Methode.*"
   ]
  },
  {
   "cell_type": "code",
   "execution_count": 7,
   "metadata": {},
   "outputs": [
    {
     "data": {
      "text/plain": [
       "['01764343729', '017633271829', '01363729382', '01823462819', '12928429200']"
      ]
     },
     "execution_count": 7,
     "metadata": {},
     "output_type": "execute_result"
    }
   ],
   "source": [
    "info = [\"Lisa\", \"01764343729\", \n",
    "\"Paul\", \"017633271829\", \"Bernd\",\n",
    " \"01363729382\", \"01823462819\", \n",
    " \"Lukas\", \"Lina\", \"12928429200\"]\n",
    "\n",
    "\n",
    "## Lösung:\n",
    "nummern = []\n",
    "\n",
    "i = 0\n",
    "\n",
    "while i < len(info):\n",
    "    element = info[i]\n",
    "    if element.isdigit():\n",
    "        nummern.append(element)\n",
    "    i += 1\n",
    "\n",
    "nummern"
   ]
  },
  {
   "cell_type": "markdown",
   "metadata": {},
   "source": [
    "## Aufgabe 2\n",
    "\n",
    "Mache nun dasselbe, wie in Aufgabe 1, aber mit einem For-Loop."
   ]
  },
  {
   "cell_type": "code",
   "execution_count": 9,
   "metadata": {},
   "outputs": [
    {
     "data": {
      "text/plain": [
       "['Lisa', 'Paul', 'Bernd', 'Lukas', 'Lina']"
      ]
     },
     "execution_count": 9,
     "metadata": {},
     "output_type": "execute_result"
    }
   ],
   "source": [
    "info = [\"Lisa\", \"01764343729\", \n",
    "\"Paul\", \"017633271829\", \"Bernd\",\n",
    " \"01363729382\", \"01823462819\", \n",
    " \"Lukas\", \"Lina\", \"12928429200\"]\n",
    "\n",
    "# Lösung:\n",
    "nummern2 = []\n",
    "namen = []\n",
    " \n",
    "for element in info:\n",
    "    if element.isdigit():\n",
    "        nummern2.append(element)\n",
    "    else:\n",
    "        namen.append(element)\n",
    "\n",
    "namen"
   ]
  },
  {
   "cell_type": "markdown",
   "metadata": {},
   "source": [
    "## Aufgabe 3\n",
    "\n",
    "Iteriere jetzt erneut mit einem while-Loop über die gerade erstellte Nummern-Liste.\n",
    "\n",
    "Gib mit einem print-statement die Nummern aus, die mit `017` starten.\n",
    "\n",
    "*Hinweis: Nutze die `.startswith()` Methode.*"
   ]
  },
  {
   "cell_type": "code",
   "execution_count": 12,
   "metadata": {},
   "outputs": [
    {
     "data": {
      "text/plain": [
       "['01764343729', '017633271829', '01363729382', '01823462819', '12928429200']"
      ]
     },
     "execution_count": 12,
     "metadata": {},
     "output_type": "execute_result"
    }
   ],
   "source": [
    "nummern"
   ]
  },
  {
   "cell_type": "code",
   "execution_count": 13,
   "metadata": {},
   "outputs": [
    {
     "name": "stdout",
     "output_type": "stream",
     "text": [
      "01764343729\n",
      "017633271829\n"
     ]
    }
   ],
   "source": [
    "## Lösung:\n",
    "i = 0\n",
    "\n",
    "while i < len(nummern):\n",
    "    if nummern[i].startswith('017'):\n",
    "        print(nummern[i])\n",
    "    i += 1"
   ]
  },
  {
   "cell_type": "markdown",
   "metadata": {},
   "source": [
    "## Aufgabe 4\n",
    "\n",
    "Iteriere jetzt erneut mit einem for-Loop über die gerade erstellte Nummern-Liste.\n",
    "\n",
    "Gib mit einem print-statement die Nummern aus, die eine `7` enthalten."
   ]
  },
  {
   "cell_type": "code",
   "execution_count": null,
   "metadata": {},
   "outputs": [
    {
     "name": "stdout",
     "output_type": "stream",
     "text": [
      "01764343729\n",
      "017633271829\n",
      "01363729382\n"
     ]
    }
   ],
   "source": [
    "# Lösung:\n",
    "for nummer in nummern:\n",
    "    if \"7\" in nummer:\n",
    "        print(nummer)"
   ]
  }
 ],
 "metadata": {
  "kernelspec": {
   "display_name": "python_workshop",
   "language": "python",
   "name": "python3"
  },
  "language_info": {
   "codemirror_mode": {
    "name": "ipython",
    "version": 3
   },
   "file_extension": ".py",
   "mimetype": "text/x-python",
   "name": "python",
   "nbconvert_exporter": "python",
   "pygments_lexer": "ipython3",
   "version": "3.12.7"
  }
 },
 "nbformat": 4,
 "nbformat_minor": 2
}
