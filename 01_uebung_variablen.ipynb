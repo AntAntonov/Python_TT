{
 "cells": [
  {
   "cell_type": "markdown",
   "metadata": {},
   "source": [
    "## Übung: Variablen\n",
    "\n",
    "- Variablen erstellen und Type überprüfen"
   ]
  },
  {
   "cell_type": "markdown",
   "metadata": {},
   "source": [
    "## Aufgabe 1\n",
    "\n",
    "Erstelle eine neue Variable namens `anzahl_studierende` und speichere den Wert `4` darin."
   ]
  },
  {
   "cell_type": "code",
   "execution_count": 15,
   "metadata": {},
   "outputs": [],
   "source": [
    "# Lösung:\n",
    "\n",
    "anzahl_studierende=4"
   ]
  },
  {
   "cell_type": "markdown",
   "metadata": {},
   "source": [
    "## Aufgabe 2\n",
    "\n",
    "Erstelle eine neue Variable namens `name_lehrerin` und speichere in ihr den Wert `Carla`."
   ]
  },
  {
   "cell_type": "code",
   "execution_count": 16,
   "metadata": {},
   "outputs": [],
   "source": [
    "# Lösung:\n",
    "\n",
    "name_lehrerin=\"Carla\""
   ]
  },
  {
   "cell_type": "markdown",
   "metadata": {},
   "source": [
    "## Aufgabe 3\n",
    "\n",
    "Erstelle eine neue Variable names `notendurchschnitt` und speichere den Wert `2.3` darin."
   ]
  },
  {
   "cell_type": "code",
   "execution_count": 17,
   "metadata": {},
   "outputs": [],
   "source": [
    "# Lösung:\n",
    "\n",
    "notendurchschnitt=2.3"
   ]
  },
  {
   "cell_type": "markdown",
   "metadata": {},
   "source": [
    "## Aufgabe 4\n",
    "\n",
    "Gib mit einem print-statement den Typ zu jeder der erstellten Variablen aus.\n",
    "\n",
    "- `anzahl_studierende`\n",
    "- `name_lehrerin`\n",
    "- `notendurchschnitt`"
   ]
  },
  {
   "cell_type": "code",
   "execution_count": 18,
   "metadata": {},
   "outputs": [
    {
     "name": "stdout",
     "output_type": "stream",
     "text": [
      "anzahl_studierente ist | <class 'int'> | type\n",
      "name_lehrerin ist <class 'str'> type\n",
      "notendurchschnitt ist <class 'float'> type\n"
     ]
    }
   ],
   "source": [
    "# Lösung:\n",
    "print(f\"anzahl_studierente ist\",\"|\",type(anzahl_studierende),\"|\",\"type\")\n",
    "print(f\"name_lehrerin ist\",type(name_lehrerin),\"type\")\n",
    "print(f\"notendurchschnitt ist\",type(notendurchschnitt),\"type\")"
   ]
  },
  {
   "cell_type": "markdown",
   "metadata": {},
   "source": [
    "## Aufgabe 5\n",
    "\n",
    "Erstelle eine neue Variable namens `alter_lehrerin` und speichere den Wert `27` ab."
   ]
  },
  {
   "cell_type": "code",
   "execution_count": 19,
   "metadata": {},
   "outputs": [],
   "source": [
    "# Lösung:\n",
    "alter_lehrerin=27"
   ]
  },
  {
   "cell_type": "markdown",
   "metadata": {},
   "source": [
    "## Aufgabe 6\n",
    "\n",
    "Lösche die Variable `durschnittsnote`."
   ]
  },
  {
   "cell_type": "code",
   "execution_count": 22,
   "metadata": {},
   "outputs": [],
   "source": [
    "# Lösung:\n",
    "durschnittsnote = 0\n",
    "del durschnittsnote\n"
   ]
  },
  {
   "cell_type": "markdown",
   "metadata": {},
   "source": [
    "## Aufgabe 7\n",
    "\n",
    "Gegeben sind vier Noten. Berechne den Durchschnitt der Noten und speichere den Wert in einer Variable."
   ]
  },
  {
   "cell_type": "code",
   "execution_count": 23,
   "metadata": {},
   "outputs": [
    {
     "name": "stdout",
     "output_type": "stream",
     "text": [
      "2.2\n"
     ]
    },
    {
     "data": {
      "text/plain": [
       "2.2"
      ]
     },
     "execution_count": 23,
     "metadata": {},
     "output_type": "execute_result"
    }
   ],
   "source": [
    "import statistics\n",
    "\n",
    "note_1 = 1.3\n",
    "note_2 = 2.1\n",
    "note_3 = 2.3\n",
    "note_4 = 3.1\n",
    "\n",
    "# Lösung:\n",
    "durschnittsnote = (note_1 + note_2 + note_3 + note_4) / 4\n",
    "print(durschnittsnote)\n",
    "statistics.mean([note_1,note_2,note_3,note_4])\n"
   ]
  },
  {
   "cell_type": "code",
   "execution_count": 26,
   "metadata": {},
   "outputs": [
    {
     "data": {
      "text/plain": [
       "False"
      ]
     },
     "execution_count": 26,
     "metadata": {},
     "output_type": "execute_result"
    }
   ],
   "source": [
    "False and False"
   ]
  }
 ],
 "metadata": {
  "kernelspec": {
   "display_name": "Python 3",
   "language": "python",
   "name": "python3"
  },
  "language_info": {
   "codemirror_mode": {
    "name": "ipython",
    "version": 3
   },
   "file_extension": ".py",
   "mimetype": "text/x-python",
   "name": "python",
   "nbconvert_exporter": "python",
   "pygments_lexer": "ipython3",
   "version": "3.12.3"
  }
 },
 "nbformat": 4,
 "nbformat_minor": 2
}
