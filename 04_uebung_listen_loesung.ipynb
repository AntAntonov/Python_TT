{
 "cells": [
  {
   "cell_type": "markdown",
   "metadata": {},
   "source": [
    "## Übung: Listen\n",
    "\n",
    "- Erstellen und modizifieren von Listen"
   ]
  },
  {
   "cell_type": "markdown",
   "metadata": {},
   "source": [
    "## Aufgabe 1.1\n",
    "\n",
    "Erstelle zwei Listen:\n",
    "\n",
    "- `tiere`: enthält Strings, die Tiernamen repräsentieren (z.B. `Hamster`)\n",
    "- `alter`: enthält Integer, die das Alter der Tiere repräsentieren (z.B. `4`)\n",
    "\n",
    "Die zwei Listen müssen gleich lang sein!"
   ]
  },
  {
   "cell_type": "code",
   "execution_count": 73,
   "metadata": {},
   "outputs": [],
   "source": [
    "# Lösung:\n",
    "\n",
    "tiere = [\"Hamster\", \"Hund\", \"Katze\", \"Papagei\"]\n",
    "alter = [2, 5, 3, 1]"
   ]
  },
  {
   "cell_type": "code",
   "execution_count": 74,
   "metadata": {},
   "outputs": [
    {
     "data": {
      "text/plain": [
       "True"
      ]
     },
     "execution_count": 74,
     "metadata": {},
     "output_type": "execute_result"
    }
   ],
   "source": [
    "# prüfen, ob die Listen gleich lang sind\n",
    "\n",
    "len(tiere) == len(alter)"
   ]
  },
  {
   "cell_type": "markdown",
   "metadata": {},
   "source": [
    "## Aufgabe 1.2\n",
    "\n",
    "Gibt mit einem print-statement das zweite Tier in der Liste `tiere` aus."
   ]
  },
  {
   "cell_type": "code",
   "execution_count": 75,
   "metadata": {},
   "outputs": [
    {
     "data": {
      "text/plain": [
       "'Hund'"
      ]
     },
     "execution_count": 75,
     "metadata": {},
     "output_type": "execute_result"
    }
   ],
   "source": [
    "# Lösung:\n",
    "\n",
    "tiere[1]"
   ]
  },
  {
   "cell_type": "markdown",
   "metadata": {},
   "source": [
    "## Aufgabe 1.3\n",
    "\n",
    "Gibt mit einem print-statement das Alter aus, was in der Liste `alter` an letzter Stelle steht."
   ]
  },
  {
   "cell_type": "code",
   "execution_count": 76,
   "metadata": {},
   "outputs": [
    {
     "data": {
      "text/plain": [
       "1"
      ]
     },
     "execution_count": 76,
     "metadata": {},
     "output_type": "execute_result"
    }
   ],
   "source": [
    "# Lösung:\n",
    "\n",
    "alter[-1]"
   ]
  },
  {
   "cell_type": "markdown",
   "metadata": {},
   "source": [
    "## Aufgabe 1.4\n",
    "\n",
    "Füge ein neues Tier zu der Liste `tiere` hinzu.\n",
    "\n",
    "Füge auch das Alter des Tieres zu der Liste `alter` hinzu."
   ]
  },
  {
   "cell_type": "code",
   "execution_count": 77,
   "metadata": {},
   "outputs": [],
   "source": [
    "# Lösung:\n",
    "tiere.append(\"Kuh\")\n",
    "alter.append(8)"
   ]
  },
  {
   "cell_type": "markdown",
   "metadata": {},
   "source": [
    "## Aufgabe 1.6\n",
    "\n",
    "Gibt mit einem print-statement den höchsten Wert aus der Liste `alter` aus."
   ]
  },
  {
   "cell_type": "code",
   "execution_count": 78,
   "metadata": {},
   "outputs": [
    {
     "data": {
      "text/plain": [
       "8"
      ]
     },
     "execution_count": 78,
     "metadata": {},
     "output_type": "execute_result"
    }
   ],
   "source": [
    "# Lösung:\n",
    "\n",
    "max(alter)"
   ]
  },
  {
   "cell_type": "markdown",
   "metadata": {},
   "source": [
    "## Aufgabe 1.7\n",
    "\n",
    "Berechne das Durchschnittsalter der Tiere."
   ]
  },
  {
   "cell_type": "code",
   "execution_count": 79,
   "metadata": {},
   "outputs": [
    {
     "data": {
      "text/plain": [
       "3.8"
      ]
     },
     "execution_count": 79,
     "metadata": {},
     "output_type": "execute_result"
    }
   ],
   "source": [
    "# Lösung:\n",
    "\n",
    "durchschnittsalter = sum(alter) / len(alter)\n",
    "\n",
    "durchschnittsalter"
   ]
  },
  {
   "cell_type": "code",
   "execution_count": 80,
   "metadata": {},
   "outputs": [
    {
     "data": {
      "text/plain": [
       "3.8"
      ]
     },
     "execution_count": 80,
     "metadata": {},
     "output_type": "execute_result"
    }
   ],
   "source": [
    "# Lösung:\n",
    "\n",
    "# option 2\n",
    "import statistics\n",
    "\n",
    "statistics.mean(alter)"
   ]
  },
  {
   "cell_type": "markdown",
   "metadata": {},
   "source": [
    "## Zusatzaufgabe (1.8)\n",
    "\n",
    "Befolge diese Schritte, um das jüngste Tier zu finden:\n",
    "\n",
    "- Extrahiere den kleinsten Wert aus der Liste `alter`.\n",
    "- Hole dir den Index dieses kleinsten Wertes.\n",
    "- Gib den Namen des Tieres aus, das am gleichen Index in der Liste `tiere` steht."
   ]
  },
  {
   "cell_type": "code",
   "execution_count": 81,
   "metadata": {},
   "outputs": [
    {
     "data": {
      "text/plain": [
       "'Papagei'"
      ]
     },
     "execution_count": 81,
     "metadata": {},
     "output_type": "execute_result"
    }
   ],
   "source": [
    "# Lösung:\n",
    "\n",
    "# option 1\n",
    "kleinstes_alter = min(alter)                            # 1\n",
    "index_kleinstes_alter = alter.index(kleinstes_alter)    # 3\n",
    "juengstes_tier = tiere[index_kleinstes_alter]           # Papagei\n",
    " \n",
    "juengstes_tier"
   ]
  },
  {
   "cell_type": "code",
   "execution_count": 82,
   "metadata": {},
   "outputs": [
    {
     "data": {
      "text/plain": [
       "'Papagei'"
      ]
     },
     "execution_count": 82,
     "metadata": {},
     "output_type": "execute_result"
    }
   ],
   "source": [
    "# option 2\n",
    "tiere[alter.index(min(alter))]  # jüngstes Tier finden"
   ]
  },
  {
   "cell_type": "markdown",
   "metadata": {},
   "source": [
    "# Aufgabe 2.1\n",
    "\n",
    "Gegeben ist eine Liste mit Namen und Telefonnummern in abwechselnder Reihenfolge.\n",
    "\n",
    "Das Format der Liste ist: `[name1, telefonnummer1, name2, telefonnummer2, ...]`\n",
    "\n",
    "Überprüfe mit einem if-statement, ob Paul in der Liste ist.\n",
    "\n",
    "Wenn ja: Gib mit einem print-statement aus: `Paul gefunden`.\n",
    "\n",
    "Wenn nein: Gib mit einem print-statement aus: `Paul nicht gefunden`."
   ]
  },
  {
   "cell_type": "code",
   "execution_count": 83,
   "metadata": {},
   "outputs": [
    {
     "name": "stdout",
     "output_type": "stream",
     "text": [
      "Paul gefunden\n"
     ]
    }
   ],
   "source": [
    "telefonbuch = [\"Lisa\", \"01764343729\", \"Paul\", \"017633271829\", \"Bernd\", \"01363729382\"]\n",
    "\n",
    "# Lösung:\n",
    "\n",
    "if \"Paul\" in telefonbuch:\n",
    "    print(\"Paul gefunden\")\n",
    "else:\n",
    "    print(\"Paul nicht gefunden\")"
   ]
  },
  {
   "cell_type": "markdown",
   "metadata": {},
   "source": [
    "## Aufgabe 2.2\n",
    "\n",
    "Gibt Pauls Telefonnummer aus.\n",
    "\n",
    "Schritte:\n",
    "\n",
    "1. Finde den Index von Paul in der Liste.\n",
    "2. Gib das Item direkt hinter dem gefundene Index aus."
   ]
  },
  {
   "cell_type": "code",
   "execution_count": 84,
   "metadata": {},
   "outputs": [
    {
     "data": {
      "text/plain": [
       "'017633271829'"
      ]
     },
     "execution_count": 84,
     "metadata": {},
     "output_type": "execute_result"
    }
   ],
   "source": [
    "# Lösung:\n",
    "\n",
    "telefonbuch[telefonbuch.index(\"Paul\")+1]"
   ]
  },
  {
   "cell_type": "markdown",
   "metadata": {},
   "source": [
    "## Aufgabe 2.3\n",
    "\n",
    "Erstelle basierend auf der Liste `telefonbuch` nun zwei neue Listen:\n",
    "\n",
    "- `namen`: Eine, die nur die Namen enthält\n",
    "- `nummern`: Eine, die nur die Nummern enthält"
   ]
  },
  {
   "cell_type": "code",
   "execution_count": 85,
   "metadata": {},
   "outputs": [],
   "source": [
    "# Lösung:\n",
    "nummern = telefonbuch[1::2]\n",
    "namen = telefonbuch[::2]"
   ]
  },
  {
   "cell_type": "markdown",
   "metadata": {},
   "source": [
    "## Aufgabe 2.4\n",
    "\n",
    "Gegeben sind zwei weitere Listen mit Namen und Telefonnummern.\n",
    "\n",
    "Füge die Namen zur Liste `namen` hinzu und die Nummern zur Liste `nummern`.\n",
    "\n",
    "*Hinweis: Benutze die `extend`-Methode*"
   ]
  },
  {
   "cell_type": "code",
   "execution_count": 86,
   "metadata": {},
   "outputs": [],
   "source": [
    "neue_namen = [\"Ole\", \"Frederike\", \"Bene\"]\n",
    "\n",
    "neue_nummern = [\"0173638829\", \"01836476829\", \"02834829202\"]\n",
    "\n",
    "# Lösung:\n",
    "\n",
    "# option 1\n",
    "namen.extend(neue_namen)        # verändert direkt die Liste `namen`\n",
    "nummern.extend(neue_nummern)    # verändert direkt die Liste `nummern`"
   ]
  },
  {
   "cell_type": "code",
   "execution_count": 87,
   "metadata": {},
   "outputs": [
    {
     "data": {
      "text/plain": [
       "['Lisa',\n",
       " 'Paul',\n",
       " 'Bernd',\n",
       " 'Ole',\n",
       " 'Frederike',\n",
       " 'Bene',\n",
       " 'Ole',\n",
       " 'Frederike',\n",
       " 'Bene']"
      ]
     },
     "execution_count": 87,
     "metadata": {},
     "output_type": "execute_result"
    }
   ],
   "source": [
    "# option 2 / anderer Weg\n",
    "alle_namen = namen + neue_namen # neue Liste erstellen mit allen Namen (Liste `namen` bleibt unverändert)\n",
    "\n",
    "alle_namen"
   ]
  }
 ],
 "metadata": {
  "kernelspec": {
   "display_name": "python_workshop",
   "language": "python",
   "name": "python3"
  },
  "language_info": {
   "codemirror_mode": {
    "name": "ipython",
    "version": 3
   },
   "file_extension": ".py",
   "mimetype": "text/x-python",
   "name": "python",
   "nbconvert_exporter": "python",
   "pygments_lexer": "ipython3",
   "version": "3.12.7"
  }
 },
 "nbformat": 4,
 "nbformat_minor": 2
}
