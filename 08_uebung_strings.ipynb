{
 "cells": [
  {
   "cell_type": "markdown",
   "metadata": {},
   "source": [
    "## Aufgabe 1\n",
    "\n",
    "Gegeben ist der String `text`.\n",
    "\n",
    "Gib aus, wie oft der Buchstabe `e` im Text vorkommt."
   ]
  },
  {
   "cell_type": "code",
   "execution_count": 2,
   "metadata": {},
   "outputs": [
    {
     "data": {
      "text/plain": [
       "8"
      ]
     },
     "execution_count": 2,
     "metadata": {},
     "output_type": "execute_result"
    }
   ],
   "source": [
    "text = \"Python ist eine coole Programmiersprache, mit der man viel machen kann.\"\n",
    "\n",
    "# Lösung:\n",
    "\n",
    "text.count(\"e\")\n"
   ]
  },
  {
   "cell_type": "markdown",
   "metadata": {},
   "source": [
    "## Aufgabe 2\n",
    "\n",
    "Gib nur mit Slicing das Wort `Programmiersprache` aus dem String aus."
   ]
  },
  {
   "cell_type": "code",
   "execution_count": 23,
   "metadata": {},
   "outputs": [
    {
     "name": "stdout",
     "output_type": "stream",
     "text": [
      "22\n",
      "<class 'int'>\n",
      "40\n",
      "Programmiersprache\n"
     ]
    }
   ],
   "source": [
    "# Lösung:\n",
    "start = text.find(\"Programmiersprache\")\n",
    "print(start)\n",
    "print(type(start))\n",
    "\n",
    "stop = start + len(\"Programmiersprache\")\n",
    "print(stop)\n",
    "print(text[start:stop])\n",
    "\n",
    "\n"
   ]
  },
  {
   "cell_type": "markdown",
   "metadata": {},
   "source": [
    "## Aufgabe 3\n",
    "\n",
    "Ersetze das Wort `coole` durch das Wort `vielseitige`."
   ]
  },
  {
   "cell_type": "code",
   "execution_count": 24,
   "metadata": {},
   "outputs": [
    {
     "data": {
      "text/plain": [
       "'Python ist eine vielseitige Programmiersprache, mit der man viel machen kann.'"
      ]
     },
     "execution_count": 24,
     "metadata": {},
     "output_type": "execute_result"
    }
   ],
   "source": [
    "# Lösung:\n",
    "\n",
    "text.replace(\"coole\", \"vielseitige\")\n",
    "\n",
    "\n"
   ]
  },
  {
   "cell_type": "markdown",
   "metadata": {},
   "source": [
    "## Aufgabe 4\n",
    "\n",
    "Gib die Anzahl an Wörtern aus, die in dem Text enthalten sind.\n",
    "\n",
    "Gehe davon aus, dass ein Wort jeweils durch ein Leerzeichen vom nächsten getrennt ist."
   ]
  },
  {
   "cell_type": "code",
   "execution_count": 32,
   "metadata": {},
   "outputs": [
    {
     "name": "stdout",
     "output_type": "stream",
     "text": [
      "11\n"
     ]
    }
   ],
   "source": [
    "# Lösung:\n",
    "\n",
    "anzahl_woertern = (text.count(\" \")) + 1\n",
    "\n",
    "print(anzahl_woertern)"
   ]
  },
  {
   "cell_type": "markdown",
   "metadata": {},
   "source": [
    "## Aufgabe 5\n",
    "\n",
    "Erstelle nun eine Liste, die die einzelnen Wörter enthält.\n",
    "\n",
    "Entferne Sonderzeichen (Komma und Punkt) am Ende der Wörter."
   ]
  },
  {
   "cell_type": "code",
   "execution_count": 56,
   "metadata": {},
   "outputs": [
    {
     "name": "stdout",
     "output_type": "stream",
     "text": [
      "['Python', 'ist', 'eine', 'coole', 'Programmiersprache', 'mit', 'der', 'man', 'viel', 'machen', 'kann']\n"
     ]
    }
   ],
   "source": [
    "# Lösung:\n",
    "\n",
    "woerter_liste = text.replace(\",\", \"\").replace(\".\", \"\").split()\n",
    "\n",
    "print(woerter_liste)\n"
   ]
  },
  {
   "cell_type": "markdown",
   "metadata": {},
   "source": [
    "## Aufgabe 6\n",
    "\n",
    "Arbeite mit der zuvor erstellten Liste an Wörtern und berechne die durchschnittliche Länge der Wörter."
   ]
  },
  {
   "cell_type": "code",
   "execution_count": 57,
   "metadata": {},
   "outputs": [
    {
     "name": "stdout",
     "output_type": "stream",
     "text": [
      "59\n",
      "5.363636363636363\n",
      "Python\n"
     ]
    }
   ],
   "source": [
    "# Lösung:\n",
    "sum_lange = 0\n",
    "for i in woerter_liste:\n",
    "    sum_lange = len(i) + sum_lange\n",
    "print(sum_lange)\n",
    "\n",
    "durchscn = sum_lange/len(woerter_liste)\n",
    "\n",
    "print(durchscn)\n",
    "\n",
    "print(woerter_liste[0])"
   ]
  },
  {
   "cell_type": "markdown",
   "metadata": {},
   "source": [
    "# Zusatz:\n",
    "\n",
    "Erzeuge nun eine verschachtelte Liste in folgendem Format:\n",
    "\n",
    "`[[wort1, wortlaenge1], [wort2, wortlaenge2], ...]`"
   ]
  },
  {
   "cell_type": "code",
   "execution_count": 85,
   "metadata": {},
   "outputs": [
    {
     "name": "stdout",
     "output_type": "stream",
     "text": [
      "['Python', 6]\n",
      "[['Python', 6], ['ist', 3], ['eine', 4], ['coole', 5], ['Programmiersprache', 18], ['mit', 3], ['der', 3], ['man', 3], ['viel', 4], ['machen', 6], ['kann', 4]]\n"
     ]
    }
   ],
   "source": [
    "# Lösung:\n",
    "\n",
    "miniliste = [woerter_liste[0] , len(woerter_liste[0])]\n",
    "\n",
    "\n",
    "#verschachtelte_liste = []\n",
    "#for i in woerter_liste:\n",
    "    #verschachtelte_liste.append([woerter_liste[woerter_liste.index(i)] , len(woerter_liste[woerter_liste.index(i)])])\n",
    "\n",
    "\n",
    "verschachtelte_liste = [[woerter_liste[woerter_liste.index(i)] , len(woerter_liste[woerter_liste.index(i)])] for i in woerter_liste]\n",
    "\n",
    "#verschachtelte_liste = [[woerter_liste[int(i)] , len(woerter_liste[int(i)])] for i in woerter_liste]\n",
    "\n",
    "print(miniliste)\n",
    "print(verschachtelte_liste)\n",
    "\n"
   ]
  }
 ],
 "metadata": {
  "kernelspec": {
   "display_name": "python_workshop",
   "language": "python",
   "name": "python3"
  },
  "language_info": {
   "codemirror_mode": {
    "name": "ipython",
    "version": 3
   },
   "file_extension": ".py",
   "mimetype": "text/x-python",
   "name": "python",
   "nbconvert_exporter": "python",
   "pygments_lexer": "ipython3",
   "version": "3.12.3"
  }
 },
 "nbformat": 4,
 "nbformat_minor": 2
}
