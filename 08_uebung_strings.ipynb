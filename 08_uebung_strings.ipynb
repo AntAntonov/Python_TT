{
 "cells": [
  {
   "cell_type": "markdown",
   "metadata": {},
   "source": [
    "## Aufgabe 1\n",
    "\n",
    "Gegeben ist der String `text`.\n",
    "\n",
    "Gib aus, wie oft der Buchstabe `e` im Text vorkommt."
   ]
  },
  {
   "cell_type": "code",
   "execution_count": 2,
   "metadata": {},
   "outputs": [
    {
     "data": {
      "text/plain": [
       "8"
      ]
     },
     "execution_count": 2,
     "metadata": {},
     "output_type": "execute_result"
    }
   ],
   "source": [
    "text = \"Python ist eine coole Programmiersprache, mit der man viel machen kann.\"\n",
    "\n",
    "# Lösung:\n",
    "\n",
    "text.count(\"e\")\n"
   ]
  },
  {
   "cell_type": "markdown",
   "metadata": {},
   "source": [
    "## Aufgabe 2\n",
    "\n",
    "Gib nur mit Slicing das Wort `Programmiersprache` aus dem String aus."
   ]
  },
  {
   "cell_type": "code",
   "execution_count": 3,
   "metadata": {},
   "outputs": [
    {
     "name": "stdout",
     "output_type": "stream",
     "text": [
      "22\n",
      "<class 'int'>\n",
      "40\n",
      "Programmiersprache\n"
     ]
    }
   ],
   "source": [
    "# Lösung:\n",
    "start = text.find(\"Programmiersprache\")\n",
    "print(start)\n",
    "print(type(start))\n",
    "\n",
    "stop = start + len(\"Programmiersprache\")\n",
    "print(stop)\n",
    "print(text[start:stop])\n",
    "\n",
    "\n"
   ]
  },
  {
   "cell_type": "markdown",
   "metadata": {},
   "source": [
    "## Aufgabe 3\n",
    "\n",
    "Ersetze das Wort `coole` durch das Wort `vielseitige`."
   ]
  },
  {
   "cell_type": "code",
   "execution_count": 4,
   "metadata": {},
   "outputs": [],
   "source": [
    "# Lösung:\n",
    "\n",
    "text = text.replace(\"coole\", \"vielseitige\")\n",
    "\n",
    "\n"
   ]
  },
  {
   "cell_type": "markdown",
   "metadata": {},
   "source": [
    "## Aufgabe 4\n",
    "\n",
    "Gib die Anzahl an Wörtern aus, die in dem Text enthalten sind.\n",
    "\n",
    "Gehe davon aus, dass ein Wort jeweils durch ein Leerzeichen vom nächsten getrennt ist."
   ]
  },
  {
   "cell_type": "code",
   "execution_count": 5,
   "metadata": {},
   "outputs": [
    {
     "name": "stdout",
     "output_type": "stream",
     "text": [
      "11\n"
     ]
    }
   ],
   "source": [
    "# Lösung:\n",
    "\n",
    "anzahl_woertern = (text.count(\" \")) + 1\n",
    "\n",
    "print(anzahl_woertern)"
   ]
  },
  {
   "cell_type": "markdown",
   "metadata": {},
   "source": [
    "## Aufgabe 5\n",
    "\n",
    "Erstelle nun eine Liste, die die einzelnen Wörter enthält.\n",
    "\n",
    "Entferne Sonderzeichen (Komma und Punkt) am Ende der Wörter."
   ]
  },
  {
   "cell_type": "code",
   "execution_count": 6,
   "metadata": {},
   "outputs": [
    {
     "name": "stdout",
     "output_type": "stream",
     "text": [
      "['Python', 'ist', 'eine', 'vielseitige', 'Programmiersprache', 'mit', 'der', 'man', 'viel', 'machen', 'kann']\n"
     ]
    }
   ],
   "source": [
    "# Lösung:\n",
    "\n",
    "woerter_liste = text.replace(\",\", \"\").replace(\".\", \"\").split()\n",
    "\n",
    "print(woerter_liste)\n"
   ]
  },
  {
   "cell_type": "markdown",
   "metadata": {},
   "source": [
    "## Aufgabe 6\n",
    "\n",
    "Arbeite mit der zuvor erstellten Liste an Wörtern und berechne die durchschnittliche Länge der Wörter."
   ]
  },
  {
   "cell_type": "code",
   "execution_count": 7,
   "metadata": {},
   "outputs": [
    {
     "name": "stdout",
     "output_type": "stream",
     "text": [
      "65\n",
      "5.909090909090909\n",
      "Python\n"
     ]
    }
   ],
   "source": [
    "# Lösung:\n",
    "sum_lange = 0\n",
    "for i in woerter_liste:\n",
    "    sum_lange = len(i) + sum_lange\n",
    "print(sum_lange)\n",
    "\n",
    "durchscn = sum_lange/len(woerter_liste)\n",
    "\n",
    "print(durchscn)\n",
    "\n",
    "print(woerter_liste[0])"
   ]
  },
  {
   "cell_type": "markdown",
   "metadata": {},
   "source": [
    "# Zusatz:\n",
    "\n",
    "Erzeuge nun eine verschachtelte Liste in folgendem Format:\n",
    "\n",
    "`[[wort1, wortlaenge1], [wort2, wortlaenge2], ...]`"
   ]
  },
  {
   "cell_type": "code",
   "execution_count": 8,
   "metadata": {},
   "outputs": [
    {
     "name": "stdout",
     "output_type": "stream",
     "text": [
      "['Python', 6]\n",
      "[['Python', 6], ['ist', 3], ['eine', 4], ['vielseitige', 11], ['Programmiersprache', 18], ['mit', 3], ['der', 3], ['man', 3], ['viel', 4], ['machen', 6], ['kann', 4]]\n"
     ]
    }
   ],
   "source": [
    "# Lösung:\n",
    "\n",
    "miniliste = [woerter_liste[0] , len(woerter_liste[0])]\n",
    "\n",
    "#Option 1\n",
    "\n",
    "verschachtelte_liste = []\n",
    "for i in woerter_liste:\n",
    "    verschachtelte_liste.append([woerter_liste[woerter_liste.index(i)] , len(woerter_liste[woerter_liste.index(i)])])\n",
    "\n",
    "\n",
    "print(miniliste)\n",
    "print(verschachtelte_liste)"
   ]
  },
  {
   "cell_type": "code",
   "execution_count": null,
   "metadata": {},
   "outputs": [
    {
     "name": "stdout",
     "output_type": "stream",
     "text": [
      "['Python', 6]\n",
      "[['Python', 6], ['ist', 3], ['eine', 4], ['vielseitige', 11], ['Programmiersprache', 18], ['mit', 3], ['der', 3], ['man', 3], ['viel', 4], ['machen', 6], ['kann', 4]]\n"
     ]
    }
   ],
   "source": [
    "\n",
    "#Option 2\n",
    "\n",
    "verschachtelte_liste = [[woerter_liste[woerter_liste.index(i)] , len(woerter_liste[woerter_liste.index(i)])] for i in woerter_liste]\n",
    "\n",
    "\n",
    "\n",
    "#ChatGPT option\n",
    "\n",
    "verschachtelte_liste = [[woerter_liste[i] , len(woerter_liste[i])] for i in range(len(woerter_liste))]\n",
    "\n",
    "\n",
    "print(miniliste)\n",
    "print(verschachtelte_liste)\n",
    "\n"
   ]
  },
  {
   "cell_type": "code",
   "execution_count": 11,
   "metadata": {},
   "outputs": [
    {
     "name": "stdout",
     "output_type": "stream",
     "text": [
      "['Python', 6]\n",
      "[['Python', 6], ['ist', 3], ['eine', 4], ['vielseitige', 11], ['Programmiersprache', 18], ['mit', 3], ['der', 3], ['man', 3], ['viel', 4], ['machen', 6], ['kann', 4]]\n"
     ]
    }
   ],
   "source": [
    "#ChatGPT option\n",
    "\n",
    "verschachtelte_liste = [[i , len(i)] for i in woerter_liste]\n",
    "\n",
    "print(miniliste)\n",
    "print(verschachtelte_liste)"
   ]
  },
  {
   "cell_type": "code",
   "execution_count": 19,
   "metadata": {},
   "outputs": [
    {
     "name": "stdout",
     "output_type": "stream",
     "text": [
      "1\n",
      "2\n",
      "3\n",
      "4\n",
      "5\n",
      "6\n",
      "7\n",
      "8\n",
      "9\n",
      "10\n",
      "11\n",
      "12\n",
      "13\n",
      "14\n",
      "15\n",
      "16\n",
      "17\n",
      "18\n",
      "19\n",
      "20\n",
      "21\n",
      "22\n",
      "23\n",
      "24\n",
      "25\n",
      "26\n",
      "27\n",
      "28\n",
      "29\n",
      "30\n",
      "31\n",
      "32\n",
      "33\n",
      "34\n",
      "35\n",
      "36\n",
      "37\n",
      "38\n",
      "39\n",
      "61\n",
      "62\n",
      "63\n",
      "64\n",
      "65\n",
      "66\n",
      "67\n",
      "68\n",
      "69\n",
      "70\n",
      "71\n",
      "72\n",
      "73\n",
      "74\n",
      "75\n",
      "76\n",
      "77\n",
      "78\n",
      "79\n",
      "80\n",
      "81\n",
      "82\n",
      "83\n",
      "84\n",
      "85\n",
      "86\n",
      "87\n",
      "88\n",
      "89\n",
      "90\n",
      "91\n",
      "92\n",
      "93\n",
      "94\n",
      "95\n",
      "96\n",
      "97\n",
      "98\n",
      "99\n",
      "100\n",
      "101\n"
     ]
    }
   ],
   "source": [
    "\n",
    "i = 1\n",
    "while i <= 100:\n",
    "    print(i)\n",
    "    if i == 39:\n",
    "        i = 61\n",
    "    else:\n",
    "        i = i + 1\n",
    "\n",
    "print(i)"
   ]
  }
 ],
 "metadata": {
  "kernelspec": {
   "display_name": "Python 3",
   "language": "python",
   "name": "python3"
  },
  "language_info": {
   "codemirror_mode": {
    "name": "ipython",
    "version": 3
   },
   "file_extension": ".py",
   "mimetype": "text/x-python",
   "name": "python",
   "nbconvert_exporter": "python",
   "pygments_lexer": "ipython3",
   "version": "3.12.3"
  }
 },
 "nbformat": 4,
 "nbformat_minor": 2
}
