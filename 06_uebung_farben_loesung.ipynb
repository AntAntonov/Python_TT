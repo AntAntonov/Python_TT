{
 "cells": [
  {
   "cell_type": "markdown",
   "metadata": {},
   "source": [
    "## Übungsaufgaben\n",
    "\n",
    "- Listen, Strings und Loops"
   ]
  },
  {
   "cell_type": "markdown",
   "metadata": {},
   "source": [
    "## Aufgabe 1\n",
    "\n",
    "Gegeben ist eine Liste mit Farbnamen.\n",
    "\n",
    "Gib mit einem print-statement die ersten drei Farben der Liste `farben` aus."
   ]
  },
  {
   "cell_type": "code",
   "execution_count": 44,
   "metadata": {},
   "outputs": [
    {
     "data": {
      "text/plain": [
       "['rot', 'blau', 'grün']"
      ]
     },
     "execution_count": 44,
     "metadata": {},
     "output_type": "execute_result"
    }
   ],
   "source": [
    "farben = [\"rot\", \"blau\", \"grün\", \"gelb\", \"orange\", \"lila\"]\n",
    "\n",
    "# Lösung:\n",
    "\n",
    "farben[:3]\n",
    "\n",
    "print()\n"
   ]
  },
  {
   "cell_type": "markdown",
   "metadata": {},
   "source": [
    "## Aufgabe 2\n",
    "\n",
    "Finde durch coden heraus, an welchem Index die Farbe `gelb` steht."
   ]
  },
  {
   "cell_type": "code",
   "execution_count": 45,
   "metadata": {},
   "outputs": [
    {
     "data": {
      "text/plain": [
       "3"
      ]
     },
     "execution_count": 45,
     "metadata": {},
     "output_type": "execute_result"
    }
   ],
   "source": [
    "# Lösung:\n",
    "suche = \"gelb\"\n",
    "\n",
    "if suche in farben:\n",
    "    index_gelb = farben.index(suche)\n",
    "\n",
    "index_gelb"
   ]
  },
  {
   "cell_type": "markdown",
   "metadata": {},
   "source": [
    "## Aufgabe 3\n",
    "\n",
    "Ersetze die Farbe gelb in der Liste nun durch die Farbe pink."
   ]
  },
  {
   "cell_type": "code",
   "execution_count": 46,
   "metadata": {},
   "outputs": [],
   "source": [
    "# Lösung:\n",
    "\n",
    "farben[farben.index(\"gelb\")] = \"pink\""
   ]
  },
  {
   "cell_type": "code",
   "execution_count": 47,
   "metadata": {},
   "outputs": [
    {
     "data": {
      "text/plain": [
       "['rot', 'blau', 'grün', 'pink', 'orange', 'lila']"
      ]
     },
     "execution_count": 47,
     "metadata": {},
     "output_type": "execute_result"
    }
   ],
   "source": [
    "farben"
   ]
  },
  {
   "cell_type": "markdown",
   "metadata": {},
   "source": [
    "## Aufgabe 4\n",
    "\n",
    "Gegeben ist eine weitere Liste, die sowohl Farbnamen als auch Zahlen enthält.\n",
    "\n",
    "Das Ziel ist es nun, nur die Farbnamen zu der Liste `farben` hinzuzufügen.\n",
    "\n",
    "Schritte:\n",
    "\n",
    "1. Iteriere mit einem Loop über die Liste.\n",
    "2. Checke, ob das aktuelle Item ein String ist und wenn ja:\n",
    "3. Füge das Item zur Liste `farben` hinzu."
   ]
  },
  {
   "cell_type": "code",
   "execution_count": 2,
   "metadata": {},
   "outputs": [
    {
     "name": "stdout",
     "output_type": "stream",
     "text": [
      "['braun', 'türkis', 'schwarz']\n"
     ]
    }
   ],
   "source": [
    "gemischt = [\"braun\", 1, 2.2, \"türkis\", 3, \"schwarz\"]\n",
    "\n",
    "# Lösung:\n",
    "farben = [i for i in gemischt if isinstance(i, str)]\n",
    " \n",
    "# farben.extend(gemischt)\n",
    " \n",
    "\n",
    "print(farben)"
   ]
  },
  {
   "cell_type": "code",
   "execution_count": 49,
   "metadata": {},
   "outputs": [
    {
     "name": "stdout",
     "output_type": "stream",
     "text": [
      "['rot', 'blau', 'grün', 'pink', 'orange', 'lila', 'braun', 'türkis', 'schwarz']\n"
     ]
    }
   ],
   "source": [
    "gemischt = [\"braun\", 1, 2.2, \"türkis\", 3, \"schwarz\"]\n",
    " \n",
    "for element in gemischt:\n",
    "    if isinstance(element, str):\n",
    "        farben.append(element)\n",
    " \n",
    "print(farben)\n",
    " "
   ]
  },
  {
   "cell_type": "markdown",
   "metadata": {},
   "source": [
    "## Aufgabe 5\n",
    "\n",
    "Sortiere die Liste mit Farben alphabetisch.\n",
    "\n",
    "*Hinweis: Nutze die `sort` Methode.*"
   ]
  },
  {
   "cell_type": "code",
   "execution_count": 52,
   "metadata": {},
   "outputs": [],
   "source": [
    "# Lösung:\n",
    "\n",
    "farben.sort()"
   ]
  },
  {
   "cell_type": "code",
   "execution_count": 53,
   "metadata": {},
   "outputs": [
    {
     "data": {
      "text/plain": [
       "['blau', 'braun', 'grün', 'lila', 'orange', 'pink', 'rot', 'schwarz', 'türkis']"
      ]
     },
     "execution_count": 53,
     "metadata": {},
     "output_type": "execute_result"
    }
   ],
   "source": [
    "farben"
   ]
  },
  {
   "cell_type": "markdown",
   "metadata": {},
   "source": [
    "# Zusatzaufgabe\n",
    "\n",
    "Verändere die Liste mit Farben nun so, dass die Anfangsbuchstaben groß geschrieben werden.\n",
    "\n",
    "Schritte:\n",
    "\n",
    "1. Iteriere mit einem Loop über die Liste.\n",
    "2. Ändere das Item so, dass der erste Buchstabe groß ist, der Rest bleibt wie er ist.\n",
    "3. Überschreibe das alte Item in der Liste `farben` mit dem neuen Item.\n",
    "\n",
    "*Hinweis: Nutze die Funktion `.capitalize()`*"
   ]
  },
  {
   "cell_type": "code",
   "execution_count": null,
   "metadata": {},
   "outputs": [
    {
     "name": "stdout",
     "output_type": "stream",
     "text": [
      "['Blau', 'Braun', 'Grün', 'Lila', 'Orange', 'Pink', 'Rot', 'Schwarz', 'Türkis']\n"
     ]
    }
   ],
   "source": [
    "# Lösung:\n",
    "\n",
    "# option 1\n",
    "for i in farben:\n",
    "    farben[farben.index(i)] = i.capitalize()\n",
    "print(farben)\n",
    "print()"
   ]
  },
  {
   "cell_type": "code",
   "execution_count": null,
   "metadata": {},
   "outputs": [],
   "source": [
    "# option 2\n",
    "for i in range(len(farben)):\n",
    "    farben[i] = farben[i].capitalize()"
   ]
  },
  {
   "cell_type": "code",
   "execution_count": null,
   "metadata": {},
   "outputs": [],
   "source": [
    "# option 3\n",
    "farben = [item.capitalize() for item in farben]"
   ]
  }
 ],
 "metadata": {
  "kernelspec": {
   "display_name": "python_workshop",
   "language": "python",
   "name": "python3"
  },
  "language_info": {
   "codemirror_mode": {
    "name": "ipython",
    "version": 3
   },
   "file_extension": ".py",
   "mimetype": "text/x-python",
   "name": "python",
   "nbconvert_exporter": "python",
   "pygments_lexer": "ipython3",
   "version": "3.12.3"
  }
 },
 "nbformat": 4,
 "nbformat_minor": 2
}
